{
 "cells": [
  {
   "cell_type": "markdown",
   "metadata": {},
   "source": [
    "## Implemented Voice assistant can perform the folloowing tasks"
   ]
  },
  {
   "cell_type": "raw",
   "metadata": {},
   "source": [
    "*It can open:\n",
    "    -->YouTube\n",
    "    -->Gmail\n",
    "    -->Google\n",
    "    -->Chrome\n",
    "    -->stack overflow\n",
    "*can predict current time\n",
    "*wish you\n",
    "*search wikipedia to abstract required data\n",
    "*predict weather in different cities\n",
    "*get top headlines news from Times of India\n",
    "*can answer computational and geographical questions too"
   ]
  },
  {
   "cell_type": "markdown",
   "metadata": {},
   "source": [
    "### Libraries used:\n",
    "    -->speechrecognition\n",
    "    -->pyttsx3\n",
    "    -->wikipedia\n",
    "    -->datetime\n",
    "    -->os\n",
    "    -->time\n",
    "    -->Web browser\n",
    "    -->Subprocess\n",
    "    -->json\n",
    "    -->request\n",
    "    -->wolfram alpha\n",
    "    -->comtypes"
   ]
  },
  {
   "cell_type": "code",
   "execution_count": null,
   "metadata": {},
   "outputs": [],
   "source": [
    "import os\n",
    "import time\n",
    "import datetime\n",
    "import subprocess\n",
    "import json\n",
    "import webbrowser\n",
    "import requests\n",
    "import wolframalpha\n",
    "import wikipedia"
   ]
  },
  {
   "cell_type": "code",
   "execution_count": null,
   "metadata": {},
   "outputs": [],
   "source": [
    "import speech_recognition as sr\n",
    "import pyttsx3#text to speech conversion library"
   ]
  },
  {
   "cell_type": "code",
   "execution_count": null,
   "metadata": {},
   "outputs": [],
   "source": [
    "print(\"LOADING YOUR PERSONAL ASSISTANT CHITTI\")"
   ]
  },
  {
   "cell_type": "code",
   "execution_count": null,
   "metadata": {},
   "outputs": [],
   "source": [
    "engine=pyttsx3.init('sapi5')#parses text and converts into audible speech...\"sapi5\" for windows users and \"nsss\" for mac users\n",
    "voices=engine.getProperty('voices')\n",
    "engine.setProperty(\"voice\",\"voices[0].id\")"
   ]
  },
  {
   "cell_type": "code",
   "execution_count": null,
   "metadata": {},
   "outputs": [],
   "source": [
    "def speak(text):\n",
    "    engine.say(text)\n",
    "    engine.runAndWait()"
   ]
  },
  {
   "cell_type": "code",
   "execution_count": null,
   "metadata": {},
   "outputs": [],
   "source": [
    "def wishMe():\n",
    "    hour=datetime.datetime.now().hour\n",
    "    if hour>=0 and hour<12:\n",
    "        speak(\"Hello,Good Morning Ms.Bhavana\")\n",
    "        print(\"Hello,Good Morning Ms.Bhavana\")\n",
    "    elif hour>=12 and hour<=18:\n",
    "        speak(\"Hello,Good Afternoon Ms.Bhavana\")\n",
    "        print(\"Hello,Good Afternoon Ms.Bhavana\")\n",
    "    elif hour>18 and hour<21:\n",
    "        speak(\"Hello,Good Evening Ms.Bhavana\")\n",
    "        print(\"Hello,Good Evening Ms.Bhavana\")\n",
    "    else:\n",
    "        speak(\"Its already the night time better go to sleep\")\n",
    "        print(\"Its already the night time better go to sleep\")"
   ]
  },
  {
   "cell_type": "code",
   "execution_count": null,
   "metadata": {},
   "outputs": [],
   "source": [
    "def takeCommand():\n",
    "    r=sr.Recognizer()\n",
    "    with sr.Microphone() as source:\n",
    "        print(\"I am Listening\")\n",
    "        audio=r.listen(source)\n",
    "        try:\n",
    "            statement=r.recognize_google(audio,language='en-in')\n",
    "            print(f\"user said:{statement}\\n\")\n",
    "        except Exception as e:\n",
    "            speak(\"pardon me,please say that again\")\n",
    "            return \"None\"\n",
    "        return statement"
   ]
  },
  {
   "cell_type": "code",
   "execution_count": null,
   "metadata": {},
   "outputs": [],
   "source": [
    "if __name__==\"__main__\":\n",
    "    speak(\"hi i am chitti version five point 0 your personal assistant\")\n",
    "    while True:\n",
    "        speak(\"tell How can i help you bhavana?\")\n",
    "        print(\"tell How can i help you bhavana?\")\n",
    "        statement=takeCommand().lower()\n",
    "        if statement==0:\n",
    "            continue\n",
    "        if \"good bye\" in statement or \"ok bye\" in statement or \"bye\" in statement or \"stop\" in statement:\n",
    "            speak(\"your personal A.I assistant chitti is shutting down,see you soon\")\n",
    "            print(\"your personal A.I assistant chitti is shutting down,see you soon\")\n",
    "            break\n",
    "        if 'wikipedia' in statement:\n",
    "            speak(\"searching wikipedia......\")\n",
    "            statement=statement.replace(\"wikipedia\",\" \")\n",
    "            results=wikipedia.summary(statement,sentences=3)\n",
    "            speak(\"According to wikipedia...\")\n",
    "            print(results)\n",
    "            speak(results)\n",
    "        elif \"open youtube\" in statement:\n",
    "            webbrowser.open_new_tab(\"https://www.youtube.com\")\n",
    "            speak(\"youtube is opened for you\")\n",
    "            time.sleep(5)\n",
    "        elif \"open google\" in statement:\n",
    "            webbrowser.open_new_tab(\"https://www.google.com\")\n",
    "            speak(\"google search is opened to you\")\n",
    "            time.sleep(5)\n",
    "        elif \"open gmail\" in statement:\n",
    "            webbrowser.open_new_tab(\"gmail.com\")\n",
    "            speak(\"your gmail is opened for you\")\n",
    "            time.sleep(5)\n",
    "        elif \"weather\" in statement:\n",
    "            api_key=\"8ef61edcf1c576d65d836254e11ea420\"\n",
    "            base_url=\"https://api.openweathermap.org/data/2.5/weather?\"\n",
    "            speak(\"whats the city name\")\n",
    "            city_name=takeCommand()\n",
    "            complete_url=base_url+\"appid=\"+api_key+\"&q=\"+city_name\n",
    "            response=requests.get(complete_url)\n",
    "            x=response.json()\n",
    "            if x[\"cod\"]!=\"404\":\n",
    "                y=x[\"main\"]\n",
    "                current_temperature=y[\"temp\"]\n",
    "                current_humidity=y[\"humidity\"]\n",
    "                z=x['weather']\n",
    "                weather_description=z[0][\"description\"]\n",
    "                speak(\"the temperature in kelvin units is \"+str(current_temperature)+\"\\n humidity in percentage is \"+str(current_humidity)+\"\\n weather description:\"+str(weather_description))\n",
    "                print(\"the temperature in kelvin units is \"+str(current_temperature)+\"\\n humidity in percentage is \"+str(current_humidity)+\"\\n weather description:\"+str(weather_description))\n",
    "            else:\n",
    "                speak(\"city not found\")\n",
    "                print(\"city not found!\")\n",
    "        elif \"time\" in statement:\n",
    "            strTime=datetime.datetime.now().strftime(\"%H:%M:%S\")\n",
    "            speak(f\"the time is {strTime}\")\n",
    "            wishMe()\n",
    "        elif \"who are you\" in statement or \"what can you do\" in statement:\n",
    "            speak(\"i am chitti version 5 point o your personal assistant.I am programmed to minor tasks like\"\n",
    "                  \"opening youtube,google,gmail and stackoverflow,predict time,search wikipedia,predict weather in different cities,get top headline news from times of india\"\n",
    "                  \"and you can ask me computational and geographical questions too\")\n",
    "        elif \"who made you\" in statement or \"who created you\" in statement or \"who discovered you\" in statement or \"who is your master\" in statement:\n",
    "            speak(\"I was built by bhavana\")\n",
    "            print(\"I was built by bhavana\")\n",
    "        elif \"open stackoverflow\" in statement:\n",
    "            webbrowser.open_new_tab(\"https://stackoverflow.com/login\")\n",
    "            time.sleep(5)\n",
    "        elif \"news\" in statement:\n",
    "            news=webbrowser.open_new_tab(\"https://timesofindia.indiantimes.com/home/headlines\")\n",
    "            speak(\"here are some headlines for you from times of india-happy reading\")\n",
    "            time.sleep(7)\n",
    "        elif \"search\" in statement:\n",
    "            statement=statement.replace(\"search\",\"\")\n",
    "            webbrowser.open_new_tab(\"https://search.yahoo.com/search?fr=mcafee&type=E211US105G0&p=https%3A%2F%2Fwww.\"+statement+\".com\")\n",
    "            time.sleep(5)\n",
    "        elif \"ask\" in statement:\n",
    "            speak(\"i can answer to computational and geographical questions too just try me!!what do you want to ask\")\n",
    "            question=takeCommand()\n",
    "            app_id=\"R2K75H-7ELALHR35X\"\n",
    "            client=wolframalpha.Client(\"R2K75H-7ELALHR35X\")\n",
    "            res=client.query(question)\n",
    "            answer=next(res.results).text\n",
    "            speak(answer)\n",
    "            print(answer)\n",
    "        elif \"log off\" in statement or \"signout\" in statement or \"shutdown\" in statement:\n",
    "            speak(\"ok,your pc will shutdown in 10 seconds-make sure you have saved and exit from all applications\")\n",
    "            subprocess.call([\"shutdown\",\"/1\"])\n",
    "        elif \"good morning\" in statement or \"happy morning\" in statement:\n",
    "            speak(\"Good morning!have a nice day\")\n",
    "        elif \"good night\" in statement:\n",
    "            speak(\"good night bhavana,have a nice sleep,see you in the morning\")\n",
    "            break\n",
    "        elif \"thank you\" in statement:\n",
    "            speak(\"my pleasure madam\")\n",
    "        elif \"instagram\" in statement:\n",
    "            user_id=input(\"user name: \")\n",
    "            webbrowser.open_new_tab(\"https://www.instagram.com/\"+user_id+\"/\")\n",
    "            time.sleep(30)\n",
    "        elif \"age\" in statement or \"old\" in statement:\n",
    "            speak(\"i am still young,but cool young.not baby young\")\n",
    "            print(\"i am still young,but cool young.not baby young\")\n",
    "time.sleep(20)"
   ]
  },
  {
   "cell_type": "code",
   "execution_count": null,
   "metadata": {},
   "outputs": [],
   "source": []
  },
  {
   "cell_type": "code",
   "execution_count": null,
   "metadata": {},
   "outputs": [],
   "source": []
  },
  {
   "cell_type": "code",
   "execution_count": null,
   "metadata": {},
   "outputs": [],
   "source": []
  }
 ],
 "metadata": {
  "kernelspec": {
   "display_name": "Python 3",
   "language": "python",
   "name": "python3"
  },
  "language_info": {
   "codemirror_mode": {
    "name": "ipython",
    "version": 3
   },
   "file_extension": ".py",
   "mimetype": "text/x-python",
   "name": "python",
   "nbconvert_exporter": "python",
   "pygments_lexer": "ipython3",
   "version": "3.7.6"
  }
 },
 "nbformat": 4,
 "nbformat_minor": 4
}
